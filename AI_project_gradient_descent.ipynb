{
 "cells": [
  {
   "cell_type": "code",
   "execution_count": null,
   "metadata": {},
   "outputs": [],
   "source": [
    "import numpy as np\n",
    "\n",
    "\n",
    "# 활성함수 : elu 함수\n",
    "def act_func(x):\n",
    "        \n",
    "    return (x>0)*x + (x<=0)*(alpha*(np.exp(x)-1))\n",
    "\n",
    "\n",
    "# c_func : cost func    init_x : 현재 parameter 값들    lr : learning rate    step_size : 횟수 \n",
    "def gradient_descent(c_func, init_x, lr=0.01, step_size):\n",
    "    # 적절한 크기의 반복 횟수 (step size) 선정 \"loop를 몇 번 할 건지.\"\n",
    "    # local minimum 으로 빠지지 않게 주의\n",
    "    # cost함수의 미분 계수를 구한 다음, learning rate를 곱해줘야함.\n",
    "    # theta가 여러 개인 경우, 그 갯수만큼 loop 안에 넣어야함.\n",
    "    # 시작 점은 무작위로 잡는다고 함.\n",
    "    \n",
    "    slop_min=0.001 # cost 함수 기울기 최솟값\n",
    "    \n",
    "    theta = np.random.uniform(min,max)  # theta 랜덤 추출\n",
    "    \n",
    "    # step_size 만큼 loop를 돈다. \n",
    "    for _ in range(step_size):\n",
    "        # 기울기가 설정해놓은 최솟값에 다다른 경우,멈추기\n",
    "        if gradient <=slop_min:\n",
    "            break\n",
    "        else:\n",
    "            # 이 부분 다시 구현해야함.\n",
    "            act_x=act_func(init_x)\n",
    "            grad_cost=init_x*(act_x-y)\n",
    "            theta-=lr*grad_cost\n",
    "    return theta\n",
    "\n",
    "    \n",
    "    "
   ]
  },
  {
   "cell_type": "code",
   "execution_count": 1,
   "metadata": {},
   "outputs": [
    {
     "name": "stdout",
     "output_type": "stream",
     "text": [
      "hi\n",
      "hi\n",
      "hi\n",
      "hi\n",
      "hi\n"
     ]
    }
   ],
   "source": []
  }
 ],
 "metadata": {
  "kernelspec": {
   "display_name": "Python 3",
   "language": "python",
   "name": "python3"
  },
  "language_info": {
   "codemirror_mode": {
    "name": "ipython",
    "version": 3
   },
   "file_extension": ".py",
   "mimetype": "text/x-python",
   "name": "python",
   "nbconvert_exporter": "python",
   "pygments_lexer": "ipython3",
   "version": "3.6.7"
  }
 },
 "nbformat": 4,
 "nbformat_minor": 2
}
