{
 "cells": [
  {
   "cell_type": "code",
   "execution_count": 1,
   "metadata": {},
   "outputs": [
    {
     "data": {
      "text/plain": [
       "<Figure size 640x480 with 1 Axes>"
      ]
     },
     "metadata": {},
     "output_type": "display_data"
    },
    {
     "name": "stdout",
     "output_type": "stream",
     "text": [
      "(30,)\n",
      "(30, 2)\n",
      "(2,)\n",
      "(2,)\n"
     ]
    }
   ],
   "source": [
    "import numpy as np\n",
    "import matplotlib.pyplot as plt\n",
    "\n",
    "def elu(x,alpha): # ELU 함수(activate 함수). alpha는 0.5가 적당하다고 함\n",
    "    return (x>0)*x + (x<=0)*(alpha*(np.exp(x)-1))\n",
    "\n",
    "def sigmod(x): # 시그모이드 함수(그냥 만들어봄 얘도 activate 함수)\n",
    "    return 1/(np.exp(-x)+1)\n",
    "\n",
    "x = np.arange(-5,5,0.001)\n",
    "y = elu(x,0.5)\n",
    "plt.plot(x,y)\n",
    "plt.show() #elu 함수 그려보기\n",
    "\n",
    "# x = np.arange(-5,5,0.001)\n",
    "# y = sigmod(x)\n",
    "# plt.plot(x,y)\n",
    "# plt.show() #sigmod 함수 그려보기\n",
    "\n",
    "# 여기는 그냥 예로 값 넣어보려고 만든 배열들인데 안쓸듯 잘못만든것같아..\n",
    "x = np.arange(1,31,1) #[1,2,...,30]\n",
    "print(x.shape)\n",
    "\n",
    "w = np.array([[1,1],[1,1],[1,1],[1,1],[1,1],[1,1],[1,1],[1,1],[1,1],[1,1],\n",
    "             [2,2],[2,2],[2,2],[2,2],[2,2],[2,2],[2,2],[2,2],[2,2],[2,2],\n",
    "             [1,1],[1,1],[1,1],[1,1],[1,1],[1,1],[1,1],[1,1],[1,1],[1,1]])\n",
    "print(w.shape)\n",
    "\n",
    "z = np.dot(x,w)\n",
    "print(z.shape)\n",
    "\n",
    "a = elu(z, 0.5)\n",
    "# a = sigmod(z)\n",
    "print(a.shape)\n",
    "# print(a)\n",
    "\n",
    "\n",
    "\n",
    "# m은 input data 개수\n",
    "# X는 input data, Y는 실제 output\n",
    "# (X1, Y1), ..., (Xm, Ym)은 주어지는 것!\n",
    "# h()는 output 계산하는 함수\n",
    "\n",
    "\n",
    "def h(theta, X): # hypothesis 함수 -> 세타를 전치(t)하고, x를 곱한 다음 활성화함수에 넣기\n",
    "    t_theta = np.transpose(theta) #전치\n",
    "    return elu(np.dot(t_theta, X))\n",
    "\n",
    "def cost_fn(m, X, Y): # cost 함수 (regularization는 나중에 넣을 것)\n",
    "    sum = 0\n",
    "    for i in range(1,m+1):\n",
    "        sum += Y[i]*np.log(h(X[i])) + (1-Y[i])*np.log(h(1-X[i]))\n",
    "    return (-1/m)*sum\n",
    "\n",
    "\n",
    "\n",
    "'''\n",
    "여기서부터 신희가 구현한 코드\n",
    "'''\n",
    "\n",
    "# 활성함수 : elu 함수\n",
    "def act_func(x,alpha=0.5):\n",
    "        \n",
    "    return (x>0)*x + (x<=0)*(alpha*(np.exp(x)-1))\n",
    "\n",
    "\n",
    "'''\n",
    " c_func : cost func    init_x : 현재 parameter 값들    lr : learning rate    step_size : 횟수 \n",
    " \n",
    " learning rate 같은 경우, 초반에 설정하는 learning rate 값에는 정답이 없다. \n",
    " 시작을 0.01로 시작해서 overshooting이 일어나면 Learning rate의 값을 줄이고 \n",
    " 학습 속도가 매우 느리다면 Learning rate 값을 올리는 방향으로 학습을 진행하면 될 것이다.\n",
    "'''\n",
    "def gradient_descent(c_func, init_x, lr=0.01, step_size):\n",
    "    # 적절한 크기의 반복 횟수 (step size) 선정 \"loop를 몇 번 할 건지.\"\n",
    "    # local minimum 으로 빠지지 않게 주의\n",
    "    # cost함수의 미분 계수를 구한 다음, learning rate를 곱해줘야함.\n",
    "    # theta가 여러 개인 경우, 그 갯수만큼 loop 안에 넣어야함.\n",
    "    # 시작 점은 무작위로 잡는다고 함.\n",
    "    \n",
    "    slop_min=0.001 # cost 함수 기울기 최솟값\n",
    "    \n",
    "    theta = np.random.uniform(min,max)  # theta 랜덤 추출 : 이걸 어떻게 뽑아내야할지 고민.\n",
    "    \n",
    "    # step_size 만큼 loop를 돈다. \n",
    "    for _ in range(step_size):\n",
    "        # 기울기가 설정해놓은 최솟값에 다다른 경우,멈추기\n",
    "        if gradient <=slop_min:\n",
    "            break\n",
    "        else:\n",
    "            # act_x : 계산된 output\n",
    "            act_x=act_func(init_x)\n",
    "            #act_x=h(theta,init_x) 로 해야하나.,?\n",
    "            # y : 실제 output\n",
    "            grad_cost=init_x*(act_x-y)\n",
    "            theta-=lr*grad_cost\n",
    "    return theta\n"
   ]
  },
  {
   "cell_type": "code",
   "execution_count": null,
   "metadata": {},
   "outputs": [],
   "source": []
  }
 ],
 "metadata": {
  "kernelspec": {
   "display_name": "Python 3",
   "language": "python",
   "name": "python3"
  },
  "language_info": {
   "codemirror_mode": {
    "name": "ipython",
    "version": 3
   },
   "file_extension": ".py",
   "mimetype": "text/x-python",
   "name": "python",
   "nbconvert_exporter": "python",
   "pygments_lexer": "ipython3",
   "version": "3.6.7"
  }
 },
 "nbformat": 4,
 "nbformat_minor": 2
}
